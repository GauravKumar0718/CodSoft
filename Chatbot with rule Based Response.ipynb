{
 "cells": [
  {
   "cell_type": "code",
   "execution_count": null,
   "id": "d810da94-bf4e-4717-b82a-dbbdda2aca96",
   "metadata": {},
   "outputs": [
    {
     "name": "stdin",
     "output_type": "stream",
     "text": [
      "You:  hello\n"
     ]
    },
    {
     "name": "stdout",
     "output_type": "stream",
     "text": [
      "Bot: Hello! How can I help you today?\n"
     ]
    },
    {
     "name": "stdin",
     "output_type": "stream",
     "text": [
      "You:  hi\n"
     ]
    },
    {
     "name": "stdout",
     "output_type": "stream",
     "text": [
      "Bot: Hi there! What's up?\n"
     ]
    },
    {
     "name": "stdin",
     "output_type": "stream",
     "text": [
      "You:  how are you\n"
     ]
    },
    {
     "name": "stdout",
     "output_type": "stream",
     "text": [
      "Bot: I'm doing well, thank you. How are you?\n"
     ]
    }
   ],
   "source": [
    "def chatbot(user_input):\n",
    "  rules = {\n",
    "    \"hello\": \"Hello! How can I help you today?\",\n",
    "    \"hi\": \"Hi there! What's up?\",\n",
    "    \"how are you\": \"I'm doing well, thank you. How are you?\",\n",
    "    \"what's the weather like\": \"I can't tell you the weather, but you can check your phone!\",\n",
    "    \"goodbye\": \"Goodbye! Have a nice day.\",\n",
    "    \"default\": \"I'm not sure I understand. Can you rephrase that?\"\n",
    "  }\n",
    "\n",
    "  for rule, response in rules.items():\n",
    "    if rule in user_input.lower():\n",
    "      return response\n",
    "\n",
    "  return rules['default']\n",
    "\n",
    "while True:\n",
    "  user_input = input(\"You: \")\n",
    "  if user_input.lower() == \"quit\":\n",
    "    break\n",
    "  response = chatbot(user_input)\n",
    "  print(\"Bot:\", response)"
   ]
  },
  {
   "cell_type": "code",
   "execution_count": null,
   "id": "70a552e2-d8ab-4c02-9afc-26e72d18225f",
   "metadata": {},
   "outputs": [],
   "source": []
  }
 ],
 "metadata": {
  "kernelspec": {
   "display_name": "Python 3 (ipykernel)",
   "language": "python",
   "name": "python3"
  },
  "language_info": {
   "codemirror_mode": {
    "name": "ipython",
    "version": 3
   },
   "file_extension": ".py",
   "mimetype": "text/x-python",
   "name": "python",
   "nbconvert_exporter": "python",
   "pygments_lexer": "ipython3",
   "version": "3.11.7"
  }
 },
 "nbformat": 4,
 "nbformat_minor": 5
}

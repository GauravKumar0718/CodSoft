{
 "cells": [
  {
   "cell_type": "code",
   "execution_count": 8,
   "id": "6d4d01b1-8e79-46d7-8a58-aeb7a5d44fe6",
   "metadata": {},
   "outputs": [
    {
     "name": "stdout",
     "output_type": "stream",
     "text": [
      "Requirement already satisfied: pandas in c:\\users\\user\\anaconda3\\lib\\site-packages (2.1.4)\n",
      "Requirement already satisfied: scikit-learn in c:\\users\\user\\anaconda3\\lib\\site-packages (1.2.2)\n",
      "Requirement already satisfied: numpy<2,>=1.23.2 in c:\\users\\user\\anaconda3\\lib\\site-packages (from pandas) (1.26.4)\n",
      "Requirement already satisfied: python-dateutil>=2.8.2 in c:\\users\\user\\anaconda3\\lib\\site-packages (from pandas) (2.8.2)\n",
      "Requirement already satisfied: pytz>=2020.1 in c:\\users\\user\\anaconda3\\lib\\site-packages (from pandas) (2023.3.post1)\n",
      "Requirement already satisfied: tzdata>=2022.1 in c:\\users\\user\\anaconda3\\lib\\site-packages (from pandas) (2023.3)\n",
      "Requirement already satisfied: scipy>=1.3.2 in c:\\users\\user\\anaconda3\\lib\\site-packages (from scikit-learn) (1.11.4)\n",
      "Requirement already satisfied: joblib>=1.1.1 in c:\\users\\user\\anaconda3\\lib\\site-packages (from scikit-learn) (1.2.0)\n",
      "Requirement already satisfied: threadpoolctl>=2.0.0 in c:\\users\\user\\anaconda3\\lib\\site-packages (from scikit-learn) (2.2.0)\n",
      "Requirement already satisfied: six>=1.5 in c:\\users\\user\\anaconda3\\lib\\site-packages (from python-dateutil>=2.8.2->pandas) (1.16.0)\n"
     ]
    }
   ],
   "source": [
    "!pip install pandas scikit-learn"
   ]
  },
  {
   "cell_type": "code",
   "execution_count": 10,
   "id": "30db1cf5-8364-43d4-a333-1dffce65deb9",
   "metadata": {},
   "outputs": [
    {
     "name": "stdout",
     "output_type": "stream",
     "text": [
      "Movie recommendations for Alice:\n",
      "Movie\n",
      "Avatar       2.718484\n",
      "Inception    1.369355\n",
      "Titanic      1.258488\n",
      "dtype: object\n"
     ]
    }
   ],
   "source": [
    "import pandas as pd\n",
    "from sklearn.metrics.pairwise import cosine_similarity\n",
    "\n",
    "# Sample user-item rating data\n",
    "data = {\n",
    "    'User ': ['Alice', 'Alice', 'Alice', 'Bob', 'Bob', 'Bob', 'Charlie', 'Charlie', 'Charlie'],\n",
    "    'Movie': ['Inception', 'Titanic', 'Avatar', 'Inception', 'Avatar', 'The Dark Knight', 'Titanic', 'Avatar', 'The Dark Knight'],\n",
    "    'Rating': [5, 3, 4, 4, 5, 2, 5, 4, 3]\n",
    "}\n",
    "\n",
    "# Create a DataFrame\n",
    "df = pd.DataFrame(data)\n",
    "\n",
    "# Pivot the DataFrame to create a user-item matrix\n",
    "user_item_matrix = df.pivot_table(index='User ', columns='Movie', values='Rating').fillna(0)\n",
    "\n",
    "# Calculate cosine similarity between users\n",
    "user_similarity = cosine_similarity(user_item_matrix)\n",
    "user_similarity_df = pd.DataFrame(user_similarity, index=user_item_matrix.index, columns=user_item_matrix.index)\n",
    "\n",
    "# Function to get movie recommendations for a user\n",
    "def get_movie_recommendations(user, num_recommendations=3):\n",
    "    # Get the user's ratings\n",
    "    user_ratings = user_item_matrix.loc[user]\n",
    "\n",
    "    # Get the similarity scores for the user\n",
    "    similar_users = user_similarity_df[user].sort_values(ascending=False)\n",
    "\n",
    "    # Create a Series to hold the weighted ratings\n",
    "    weighted_ratings = pd.Series()\n",
    "\n",
    "    for similar_user, similarity_score in similar_users.items():\n",
    "        if similar_user == user:\n",
    "            continue  # Skip the user themselves\n",
    "        # Get the ratings of the similar user\n",
    "        similar_user_ratings = user_item_matrix.loc[similar_user]\n",
    "        # Multiply the ratings by the similarity score\n",
    "        weighted_ratings = weighted_ratings.add(similar_user_ratings * similarity_score, fill_value=0)\n",
    "\n",
    "    # Normalize the weighted ratings by the sum of similarities\n",
    "    recommendations = weighted_ratings / similar_users.sum()\n",
    "\n",
    "    # Filter out already rated movies\n",
    "    recommendations = recommendations[user_ratings[user_ratings > 0].index]\n",
    "\n",
    "    # Sort the recommendations\n",
    "    recommendations = recommendations.sort_values(ascending=False)\n",
    "\n",
    "    return recommendations.head(num_recommendations)\n",
    "\n",
    "# Example usage\n",
    "if __name__ == \"__main__\":\n",
    "    user = 'Alice'\n",
    "    recommendations = get_movie_recommendations(user)\n",
    "    print(f\"Movie recommendations for {user}:\")\n",
    "    print(recommendations)"
   ]
  },
  {
   "cell_type": "code",
   "execution_count": null,
   "id": "fafa80f0-e4f4-4b88-a2c0-2a4c5d1961fd",
   "metadata": {},
   "outputs": [],
   "source": []
  }
 ],
 "metadata": {
  "kernelspec": {
   "display_name": "Python 3 (ipykernel)",
   "language": "python",
   "name": "python3"
  },
  "language_info": {
   "codemirror_mode": {
    "name": "ipython",
    "version": 3
   },
   "file_extension": ".py",
   "mimetype": "text/x-python",
   "name": "python",
   "nbconvert_exporter": "python",
   "pygments_lexer": "ipython3",
   "version": "3.11.7"
  }
 },
 "nbformat": 4,
 "nbformat_minor": 5
}
